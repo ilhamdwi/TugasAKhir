{
 "cells": [
  {
   "cell_type": "code",
   "execution_count": 1,
   "metadata": {
    "scrolled": true
   },
   "outputs": [
    {
     "name": "stderr",
     "output_type": "stream",
     "text": [
      "Using TensorFlow backend.\n"
     ]
    }
   ],
   "source": [
    "import pandas as pd\n",
    "import matplotlib.pyplot as plt\n",
    "import numpy as np\n",
    "from numpy import loadtxt\n",
    "from keras.models import Sequential\n",
    "from keras.layers import Dense"
   ]
  },
  {
   "cell_type": "code",
   "execution_count": 2,
   "metadata": {},
   "outputs": [],
   "source": [
    "df = pd.read_csv(\"data-penyakit.csv\")"
   ]
  },
  {
   "cell_type": "code",
   "execution_count": 3,
   "metadata": {},
   "outputs": [
    {
     "data": {
      "text/html": [
       "<div>\n",
       "<style scoped>\n",
       "    .dataframe tbody tr th:only-of-type {\n",
       "        vertical-align: middle;\n",
       "    }\n",
       "\n",
       "    .dataframe tbody tr th {\n",
       "        vertical-align: top;\n",
       "    }\n",
       "\n",
       "    .dataframe thead th {\n",
       "        text-align: right;\n",
       "    }\n",
       "</style>\n",
       "<table border=\"1\" class=\"dataframe\">\n",
       "  <thead>\n",
       "    <tr style=\"text-align: right;\">\n",
       "      <th></th>\n",
       "      <th>diagnosis_penyakit</th>\n",
       "      <th>l</th>\n",
       "      <th>p</th>\n",
       "      <th>total</th>\n",
       "      <th>pasien_perhari</th>\n",
       "      <th>status</th>\n",
       "    </tr>\n",
       "  </thead>\n",
       "  <tbody>\n",
       "    <tr>\n",
       "      <th>0</th>\n",
       "      <td>1         (J06.9) Acute upper respiratory infe...</td>\n",
       "      <td>40998</td>\n",
       "      <td>44205</td>\n",
       "      <td>85203</td>\n",
       "      <td>96.821591</td>\n",
       "      <td>1</td>\n",
       "    </tr>\n",
       "    <tr>\n",
       "      <th>1</th>\n",
       "      <td>2         (J00) Acute nasopharyngitis [common ...</td>\n",
       "      <td>25847</td>\n",
       "      <td>28951</td>\n",
       "      <td>54798</td>\n",
       "      <td>62.270455</td>\n",
       "      <td>1</td>\n",
       "    </tr>\n",
       "    <tr>\n",
       "      <th>2</th>\n",
       "      <td>3         (K30) Dyspepsia</td>\n",
       "      <td>17652</td>\n",
       "      <td>33032</td>\n",
       "      <td>50684</td>\n",
       "      <td>57.595455</td>\n",
       "      <td>1</td>\n",
       "    </tr>\n",
       "    <tr>\n",
       "      <th>3</th>\n",
       "      <td>4         (Z00.0) General medical examination</td>\n",
       "      <td>24391</td>\n",
       "      <td>20412</td>\n",
       "      <td>44803</td>\n",
       "      <td>50.912500</td>\n",
       "      <td>1</td>\n",
       "    </tr>\n",
       "    <tr>\n",
       "      <th>4</th>\n",
       "      <td>5         (R50.9) Fever, unspecified</td>\n",
       "      <td>21463</td>\n",
       "      <td>19799</td>\n",
       "      <td>41262</td>\n",
       "      <td>46.888636</td>\n",
       "      <td>1</td>\n",
       "    </tr>\n",
       "  </tbody>\n",
       "</table>\n",
       "</div>"
      ],
      "text/plain": [
       "                                  diagnosis_penyakit      l      p  total  \\\n",
       "0  1         (J06.9) Acute upper respiratory infe...  40998  44205  85203   \n",
       "1  2         (J00) Acute nasopharyngitis [common ...  25847  28951  54798   \n",
       "2                          3         (K30) Dyspepsia  17652  33032  50684   \n",
       "3      4         (Z00.0) General medical examination  24391  20412  44803   \n",
       "4               5         (R50.9) Fever, unspecified  21463  19799  41262   \n",
       "\n",
       "   pasien_perhari  status  \n",
       "0       96.821591       1  \n",
       "1       62.270455       1  \n",
       "2       57.595455       1  \n",
       "3       50.912500       1  \n",
       "4       46.888636       1  "
      ]
     },
     "execution_count": 3,
     "metadata": {},
     "output_type": "execute_result"
    }
   ],
   "source": [
    "df.head()"
   ]
  },
  {
   "cell_type": "raw",
   "metadata": {},
   "source": []
  },
  {
   "cell_type": "code",
   "execution_count": 4,
   "metadata": {},
   "outputs": [],
   "source": [
    "x_data = df.iloc[:,[3,4]].values\n",
    "y_data = df.iloc[:,5].values"
   ]
  },
  {
   "cell_type": "code",
   "execution_count": 5,
   "metadata": {},
   "outputs": [],
   "source": [
    "model = Sequential()\n",
    "model.add(Dense(12, input_dim=2, activation='relu'))\n",
    "model.add(Dense(8, activation='relu'))\n",
    "model.add(Dense(1, activation='sigmoid'))"
   ]
  },
  {
   "cell_type": "code",
   "execution_count": 6,
   "metadata": {},
   "outputs": [
    {
     "name": "stdout",
     "output_type": "stream",
     "text": [
      "WARNING:tensorflow:From D:\\New folder (2)\\lib\\site-packages\\tensorflow\\python\\ops\\nn_impl.py:180: add_dispatch_support.<locals>.wrapper (from tensorflow.python.ops.array_ops) is deprecated and will be removed in a future version.\n",
      "Instructions for updating:\n",
      "Use tf.where in 2.0, which has the same broadcast rule as np.where\n"
     ]
    }
   ],
   "source": [
    "model.compile(loss='binary_crossentropy', optimizer='adam', metrics=['accuracy'])"
   ]
  },
  {
   "cell_type": "code",
   "execution_count": 7,
   "metadata": {},
   "outputs": [
    {
     "name": "stdout",
     "output_type": "stream",
     "text": [
      "WARNING:tensorflow:From D:\\New folder (2)\\lib\\site-packages\\keras\\backend\\tensorflow_backend.py:422: The name tf.global_variables is deprecated. Please use tf.compat.v1.global_variables instead.\n",
      "\n"
     ]
    },
    {
     "data": {
      "text/plain": [
       "<keras.callbacks.callbacks.History at 0x20d955bfb38>"
      ]
     },
     "execution_count": 7,
     "metadata": {},
     "output_type": "execute_result"
    }
   ],
   "source": [
    "model.fit(x_data, y_data, epochs=150, batch_size=10, verbose=0)"
   ]
  },
  {
   "cell_type": "code",
   "execution_count": 8,
   "metadata": {},
   "outputs": [
    {
     "name": "stdout",
     "output_type": "stream",
     "text": [
      "4408/4408 [==============================] - 0s 53us/step\n",
      "Accuracy: 99.77\n"
     ]
    }
   ],
   "source": [
    "_, accuracy = model.evaluate(x_data, y_data)\n",
    "print('Accuracy: %.2f' % (accuracy*100))"
   ]
  },
  {
   "cell_type": "code",
   "execution_count": 30,
   "metadata": {},
   "outputs": [
    {
     "name": "stdout",
     "output_type": "stream",
     "text": [
      "[85203.0, 96.8215909] => 0 (expected 1)\n",
      "[54798.0, 62.270454545454996] => 0 (expected 1)\n",
      "[50684.0, 57.595454545455] => 0 (expected 1)\n",
      "[44803.0, 50.9125] => 0 (expected 1)\n",
      "[41262.0, 46.888636363635996] => 0 (expected 1)\n",
      "[31201.0, 35.455681818182] => 0 (expected 1)\n",
      "[27690.0, 31.465909090909] => 0 (expected 0)\n",
      "[22541.0, 25.614772727273003] => 0 (expected 0)\n",
      "[21509.0, 24.442045454545003] => 0 (expected 0)\n",
      "[17852.0, 20.286363636364] => 0 (expected 0)\n"
     ]
    }
   ],
   "source": [
    "predictions = model.predict_classes(x_data)\n",
    "\n",
    "for i in range(10):\n",
    "    print('%s => %d (expected %d)' % (x_data[i].tolist(), predictions[i], y_data[i]))"
   ]
  },
  {
   "cell_type": "code",
   "execution_count": null,
   "metadata": {},
   "outputs": [],
   "source": []
  }
 ],
 "metadata": {
  "kernelspec": {
   "display_name": "Python 3",
   "language": "python",
   "name": "python3"
  },
  "language_info": {
   "codemirror_mode": {
    "name": "ipython",
    "version": 3
   },
   "file_extension": ".py",
   "mimetype": "text/x-python",
   "name": "python",
   "nbconvert_exporter": "python",
   "pygments_lexer": "ipython3",
   "version": "3.7.3"
  }
 },
 "nbformat": 4,
 "nbformat_minor": 2
}
