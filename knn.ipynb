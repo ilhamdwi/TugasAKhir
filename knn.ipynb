{
 "cells": [
  {
   "cell_type": "code",
   "execution_count": 48,
   "metadata": {},
   "outputs": [],
   "source": [
    "#Import package yang akan digunakan \n",
    "import numpy as np\n",
    "import pandas as pd\n",
    "import matplotlib.pyplot as plt\n",
    "import seaborn as sns\n",
    "\n",
    "from sklearn.preprocessing import LabelEncoder\n",
    "from sklearn.preprocessing import StandardScaler\n",
    "from sklearn.model_selection import train_test_split\n",
    "from sklearn.neighbors import KNeighborsClassifier\n",
    "from sklearn.metrics import classification_report\n",
    "from sklearn.metrics import confusion_matrix\n",
    "from sklearn import preprocessing"
   ]
  },
  {
   "cell_type": "code",
   "execution_count": 87,
   "metadata": {},
   "outputs": [],
   "source": [
    "#memasukan data csv\n",
    "df = pd.read_csv('data-penyakit.csv')"
   ]
  },
  {
   "cell_type": "code",
   "execution_count": 88,
   "metadata": {},
   "outputs": [
    {
     "data": {
      "text/html": [
       "<div>\n",
       "<style scoped>\n",
       "    .dataframe tbody tr th:only-of-type {\n",
       "        vertical-align: middle;\n",
       "    }\n",
       "\n",
       "    .dataframe tbody tr th {\n",
       "        vertical-align: top;\n",
       "    }\n",
       "\n",
       "    .dataframe thead th {\n",
       "        text-align: right;\n",
       "    }\n",
       "</style>\n",
       "<table border=\"1\" class=\"dataframe\">\n",
       "  <thead>\n",
       "    <tr style=\"text-align: right;\">\n",
       "      <th></th>\n",
       "      <th>diagnosis_penyakit</th>\n",
       "      <th>l</th>\n",
       "      <th>p</th>\n",
       "      <th>total</th>\n",
       "      <th>pasien_perhari</th>\n",
       "      <th>status</th>\n",
       "    </tr>\n",
       "  </thead>\n",
       "  <tbody>\n",
       "    <tr>\n",
       "      <th>0</th>\n",
       "      <td>1         (J06.9) Acute upper respiratory infe...</td>\n",
       "      <td>40998</td>\n",
       "      <td>44205</td>\n",
       "      <td>85203</td>\n",
       "      <td>96.821591</td>\n",
       "      <td>1</td>\n",
       "    </tr>\n",
       "    <tr>\n",
       "      <th>1</th>\n",
       "      <td>2         (J00) Acute nasopharyngitis [common ...</td>\n",
       "      <td>25847</td>\n",
       "      <td>28951</td>\n",
       "      <td>54798</td>\n",
       "      <td>62.270455</td>\n",
       "      <td>1</td>\n",
       "    </tr>\n",
       "    <tr>\n",
       "      <th>2</th>\n",
       "      <td>3         (K30) Dyspepsia</td>\n",
       "      <td>17652</td>\n",
       "      <td>33032</td>\n",
       "      <td>50684</td>\n",
       "      <td>57.595455</td>\n",
       "      <td>1</td>\n",
       "    </tr>\n",
       "    <tr>\n",
       "      <th>3</th>\n",
       "      <td>4         (Z00.0) General medical examination</td>\n",
       "      <td>24391</td>\n",
       "      <td>20412</td>\n",
       "      <td>44803</td>\n",
       "      <td>50.912500</td>\n",
       "      <td>1</td>\n",
       "    </tr>\n",
       "    <tr>\n",
       "      <th>4</th>\n",
       "      <td>5         (R50.9) Fever, unspecified</td>\n",
       "      <td>21463</td>\n",
       "      <td>19799</td>\n",
       "      <td>41262</td>\n",
       "      <td>46.888636</td>\n",
       "      <td>1</td>\n",
       "    </tr>\n",
       "  </tbody>\n",
       "</table>\n",
       "</div>"
      ],
      "text/plain": [
       "                                  diagnosis_penyakit      l      p  total  \\\n",
       "0  1         (J06.9) Acute upper respiratory infe...  40998  44205  85203   \n",
       "1  2         (J00) Acute nasopharyngitis [common ...  25847  28951  54798   \n",
       "2                          3         (K30) Dyspepsia  17652  33032  50684   \n",
       "3      4         (Z00.0) General medical examination  24391  20412  44803   \n",
       "4               5         (R50.9) Fever, unspecified  21463  19799  41262   \n",
       "\n",
       "   pasien_perhari  status  \n",
       "0       96.821591       1  \n",
       "1       62.270455       1  \n",
       "2       57.595455       1  \n",
       "3       50.912500       1  \n",
       "4       46.888636       1  "
      ]
     },
     "execution_count": 88,
     "metadata": {},
     "output_type": "execute_result"
    }
   ],
   "source": [
    "#membaca data 5 teratas\n",
    "df.head()"
   ]
  },
  {
   "cell_type": "code",
   "execution_count": 89,
   "metadata": {},
   "outputs": [
    {
     "name": "stdout",
     "output_type": "stream",
     "text": [
      "<class 'pandas.core.frame.DataFrame'>\n",
      "RangeIndex: 4408 entries, 0 to 4407\n",
      "Data columns (total 6 columns):\n",
      "diagnosis_penyakit    4408 non-null object\n",
      "l                     4408 non-null int64\n",
      "p                     4408 non-null int64\n",
      "total                 4408 non-null int64\n",
      "pasien_perhari        4408 non-null float64\n",
      "status                4408 non-null int64\n",
      "dtypes: float64(1), int64(4), object(1)\n",
      "memory usage: 206.7+ KB\n"
     ]
    }
   ],
   "source": [
    "#memilih tipe data yang akan digunakan\n",
    "df.info()"
   ]
  },
  {
   "cell_type": "code",
   "execution_count": 90,
   "metadata": {},
   "outputs": [],
   "source": [
    "x_data = df.iloc[:,[3,4]].values\n",
    "y_data = df.iloc[:,5].values"
   ]
  },
  {
   "cell_type": "code",
   "execution_count": 91,
   "metadata": {},
   "outputs": [
    {
     "data": {
      "text/plain": [
       "array([[8.52030000e+04, 9.68215909e+01],\n",
       "       [5.47980000e+04, 6.22704545e+01],\n",
       "       [5.06840000e+04, 5.75954545e+01],\n",
       "       ...,\n",
       "       [1.00000000e+00, 1.13636364e-03],\n",
       "       [1.00000000e+00, 1.13636364e-03],\n",
       "       [1.00000000e+00, 1.13636364e-03]])"
      ]
     },
     "execution_count": 91,
     "metadata": {},
     "output_type": "execute_result"
    }
   ],
   "source": [
    "x_data"
   ]
  },
  {
   "cell_type": "code",
   "execution_count": 92,
   "metadata": {},
   "outputs": [
    {
     "data": {
      "text/plain": [
       "array([1, 1, 1, ..., 0, 0, 0], dtype=int64)"
      ]
     },
     "execution_count": 92,
     "metadata": {},
     "output_type": "execute_result"
    }
   ],
   "source": [
    "y_data"
   ]
  },
  {
   "cell_type": "code",
   "execution_count": 93,
   "metadata": {},
   "outputs": [],
   "source": [
    "#membagi data training dan data testing\n",
    "x_data_train, x_data_test, y_data_train, y_data_test = train_test_split(x_data, y_data, test_size=0.4, random_state=0)"
   ]
  },
  {
   "cell_type": "code",
   "execution_count": 94,
   "metadata": {},
   "outputs": [
    {
     "data": {
      "text/plain": [
       "array([[1.00000000e+00, 1.13636364e-03],\n",
       "       [2.10000000e+01, 2.38636364e-02],\n",
       "       [8.00000000e+00, 9.09090909e-03],\n",
       "       ...,\n",
       "       [7.00000000e+00, 7.95454545e-03],\n",
       "       [3.00000000e+00, 3.40909091e-03],\n",
       "       [2.00000000e+00, 2.27272727e-03]])"
      ]
     },
     "execution_count": 94,
     "metadata": {},
     "output_type": "execute_result"
    }
   ],
   "source": [
    "x_data_train"
   ]
  },
  {
   "cell_type": "code",
   "execution_count": 95,
   "metadata": {},
   "outputs": [
    {
     "data": {
      "text/plain": [
       "array([[9.00000000e+00, 1.02272727e-02],\n",
       "       [6.00000000e+00, 6.81818182e-03],\n",
       "       [1.00000000e+00, 1.13636364e-03],\n",
       "       ...,\n",
       "       [2.00000000e+00, 2.27272727e-03],\n",
       "       [1.00000000e+01, 1.13636364e-02],\n",
       "       [2.00000000e+00, 2.27272727e-03]])"
      ]
     },
     "execution_count": 95,
     "metadata": {},
     "output_type": "execute_result"
    }
   ],
   "source": [
    "x_data_test"
   ]
  },
  {
   "cell_type": "code",
   "execution_count": 96,
   "metadata": {},
   "outputs": [],
   "source": [
    "#mengaktifkan package dan syntax untuk mengubah skala data\n",
    "from sklearn.preprocessing import StandardScaler"
   ]
  },
  {
   "cell_type": "code",
   "execution_count": 97,
   "metadata": {},
   "outputs": [],
   "source": [
    "sc = StandardScaler()"
   ]
  },
  {
   "cell_type": "code",
   "execution_count": 98,
   "metadata": {},
   "outputs": [],
   "source": [
    "x_data_train = sc.fit_transform(x_data_train)\n",
    "x_data_test = sc.fit_transform(x_data_test)"
   ]
  },
  {
   "cell_type": "code",
   "execution_count": 99,
   "metadata": {},
   "outputs": [
    {
     "data": {
      "text/plain": [
       "array([[-0.08281078, -0.08281078],\n",
       "       [-0.08412405, -0.08412405],\n",
       "       [-0.08631283, -0.08631283],\n",
       "       ...,\n",
       "       [-0.08587507, -0.08587507],\n",
       "       [-0.08237302, -0.08237302],\n",
       "       [-0.08587507, -0.08587507]])"
      ]
     },
     "execution_count": 99,
     "metadata": {},
     "output_type": "execute_result"
    }
   ],
   "source": [
    "x_data_test"
   ]
  },
  {
   "cell_type": "code",
   "execution_count": 100,
   "metadata": {},
   "outputs": [],
   "source": [
    "#mengaktifkan package untuk klasifikasi KNN dan inport package KNeighbors dari SKlearn\n",
    "from sklearn.neighbors import KNeighborsClassifier"
   ]
  },
  {
   "cell_type": "code",
   "execution_count": 101,
   "metadata": {
    "scrolled": true
   },
   "outputs": [],
   "source": [
    "tingkat_kesalahan = []\n",
    "\n",
    "for i in range (1,40):\n",
    "    \n",
    "        knn = KNeighborsClassifier(n_neighbors=i)\n",
    "        knn.fit(x_data_train, y_data_train)\n",
    "        pred_i = knn.predict(x_data_test)\n",
    "        tingkat_kesalahan.append(np.mean(pred_i !=y_data_test))"
   ]
  },
  {
   "cell_type": "code",
   "execution_count": 103,
   "metadata": {},
   "outputs": [
    {
     "data": {
      "text/plain": [
       "Text(0, 0.5, 'tingkat_kesalahan')"
      ]
     },
     "execution_count": 103,
     "metadata": {},
     "output_type": "execute_result"
    },
    {
     "data": {
      "image/png": "[encoded data removed]",
      "text/plain": [
       "<Figure size 720x432 with 1 Axes>"
      ]
     },
     "metadata": {
      "needs_background": "light"
     },
     "output_type": "display_data"
    }
   ],
   "source": [
    "plt.figure(figsize=(10,6))\n",
    "plt.plot(range(1,40),tingkat_kesalahan,color='blue', linestyle='dashed', marker='o'\n",
    "         ,markerfacecolor='red', markersize=10)\n",
    "plt.title('tingkat_kesalahan VS. K Value')\n",
    "plt.xlabel('K')\n",
    "plt.ylabel('tingkat_kesalahan')"
   ]
  },
  {
   "cell_type": "code",
   "execution_count": 105,
   "metadata": {},
   "outputs": [
    {
     "data": {
      "text/plain": [
       "KNeighborsClassifier(algorithm='auto', leaf_size=30, metric='minkowski',\n",
       "                     metric_params=None, n_jobs=None, n_neighbors=1, p=2,\n",
       "                     weights='uniform')"
      ]
     },
     "execution_count": 105,
     "metadata": {},
     "output_type": "execute_result"
    }
   ],
   "source": [
    "from sklearn.neighbors import KNeighborsClassifier\n",
    "\n",
    "knn=KNeighborsClassifier(n_neighbors=1)\n",
    "knn.fit(x_data_train,y_data_train)"
   ]
  },
  {
   "cell_type": "code",
   "execution_count": 132,
   "metadata": {},
   "outputs": [],
   "source": [
    "pred_k = knn.predict(x_data_test)"
   ]
  },
  {
   "cell_type": "code",
   "execution_count": 133,
   "metadata": {},
   "outputs": [
    {
     "data": {
      "text/plain": [
       "array([0, 0, 0, ..., 0, 0, 0], dtype=int64)"
      ]
     },
     "execution_count": 133,
     "metadata": {},
     "output_type": "execute_result"
    }
   ],
   "source": [
    "pred_k"
   ]
  },
  {
   "cell_type": "code",
   "execution_count": 135,
   "metadata": {},
   "outputs": [
    {
     "name": "stdout",
     "output_type": "stream",
     "text": [
      "[-0.08281078 -0.08281078] 0\n",
      "[-0.08412405 -0.08412405] 0\n",
      "[-0.08631283 -0.08631283] 0\n",
      "[-0.08543731 -0.08543731] 0\n",
      "[-0.07099137 -0.07099137] 0\n",
      "[-0.08587507 -0.08587507] 0\n",
      "[-0.08237302 -0.08237302] 0\n",
      "[-0.08368629 -0.08368629] 0\n",
      "[-0.08499956 -0.08499956] 0\n",
      "[-0.07711995 -0.07711995] 0\n"
     ]
    }
   ],
   "source": [
    "for i in range(10):\n",
    "    print (x_data_test[i], pred_k[i])"
   ]
  },
  {
   "cell_type": "code",
   "execution_count": 136,
   "metadata": {},
   "outputs": [],
   "source": [
    "from sklearn.metrics import classification_report, confusion_matrix"
   ]
  },
  {
   "cell_type": "code",
   "execution_count": 137,
   "metadata": {},
   "outputs": [
    {
     "name": "stdout",
     "output_type": "stream",
     "text": [
      "[[1760    0]\n",
      " [   1    3]]\n"
     ]
    }
   ],
   "source": [
    "print(confusion_matrix(y_data_test, pred_k1))"
   ]
  },
  {
   "cell_type": "code",
   "execution_count": 138,
   "metadata": {},
   "outputs": [
    {
     "name": "stdout",
     "output_type": "stream",
     "text": [
      "              precision    recall  f1-score   support\n",
      "\n",
      "           0       1.00      1.00      1.00      1760\n",
      "           1       1.00      0.75      0.86         4\n",
      "\n",
      "    accuracy                           1.00      1764\n",
      "   macro avg       1.00      0.88      0.93      1764\n",
      "weighted avg       1.00      1.00      1.00      1764\n",
      "\n"
     ]
    }
   ],
   "source": [
    "print(classification_report(y_data_test,pred_k1))"
   ]
  },
  {
   "cell_type": "code",
   "execution_count": null,
   "metadata": {},
   "outputs": [],
   "source": []
  }
 ],
 "metadata": {
  "kernelspec": {
   "display_name": "Python 3",
   "language": "python",
   "name": "python3"
  },
  "language_info": {
   "codemirror_mode": {
    "name": "ipython",
    "version": 3
   },
   "file_extension": ".py",
   "mimetype": "text/x-python",
   "name": "python",
   "nbconvert_exporter": "python",
   "pygments_lexer": "ipython3",
   "version": "3.7.3"
  }
 },
 "nbformat": 4,
 "nbformat_minor": 2
}
